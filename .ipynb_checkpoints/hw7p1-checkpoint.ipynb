{
 "cells": [
  {
   "cell_type": "code",
   "execution_count": 84,
   "id": "391a1e2a",
   "metadata": {},
   "outputs": [],
   "source": [
    "import numpy as np"
   ]
  },
  {
   "cell_type": "code",
   "execution_count": 90,
   "id": "bd07a8af",
   "metadata": {},
   "outputs": [
    {
     "name": "stdout",
     "output_type": "stream",
     "text": [
      "108 20\n"
     ]
    }
   ],
   "source": [
    "# import data without row 1 and columns 1,2\n",
    "with open('MovieRankingData2024.csv') as f:\n",
    "    cols = len(f.readline().split(','))\n",
    "A = np.genfromtxt('MovieRankingData2024.csv', delimiter=',', skip_header=1, usecols=range(2,cols), filling_values=0)\n",
    "Omega = np.argwhere(A>0) # indices of data\n",
    "nrows, ncols = A.shape\n",
    "print(nrows,ncols)"
   ]
  },
  {
   "cell_type": "code",
   "execution_count": 91,
   "id": "a594fc5a",
   "metadata": {},
   "outputs": [
    {
     "name": "stdout",
     "output_type": "stream",
     "text": [
      "[ 22  65  80  96 100]\n",
      "[[ 5.   6.   8.   6.   8.   3.   0.   9.   0.   0.   8.   0.   0.  10.\n",
      "   9.   0.   0.   8.   0.   0. ]\n",
      " [ 0.   6.   0.   8.   6.   3.   5.   0.   7.   0.   4.   7.   0.   9.\n",
      "   0.   0.   9.   6.   0.   0. ]\n",
      " [ 0.   7.   9.   7.   5.5  4.5  7.5  0.   0.   0.   0.   8.5  0.   9.5\n",
      "   2.5  0.   0.   7.5  0.   8.5]\n",
      " [ 8.   0.   0.   8.   0.   0.   9.   9.   0.   0.   7.   9.   0.   8.\n",
      "   8.   0.   0.   0.   0.   0. ]\n",
      " [ 0.   5.   0.   6.   0.   0.   0.   7.   0.   0.   0.   7.   0.   0.\n",
      "   0.   0.   0.   0.   0.   0. ]]\n",
      "[[2.5  3.   4.   3.   4.   1.5  0.   4.5  0.   0.   4.   0.   0.   5.\n",
      "  4.5  0.   0.   4.   0.   0.  ]\n",
      " [0.   3.   0.   4.   3.   1.5  2.5  0.   3.5  0.   2.   3.5  0.   4.5\n",
      "  0.   0.   4.5  3.   0.   0.  ]\n",
      " [0.   3.5  4.5  3.5  2.75 2.25 3.75 0.   0.   0.   0.   4.25 0.   4.75\n",
      "  1.25 0.   0.   3.75 0.   4.25]\n",
      " [4.   0.   0.   4.   0.   0.   4.5  4.5  0.   0.   3.5  4.5  0.   4.\n",
      "  4.   0.   0.   0.   0.   0.  ]\n",
      " [0.   2.5  0.   3.   0.   0.   0.   3.5  0.   0.   0.   3.5  0.   0.\n",
      "  0.   0.   0.   0.   0.   0.  ]]\n"
     ]
    }
   ],
   "source": [
    "# some people gave ratings on the 0-10 scale, so divide their rows by 2\n",
    "rescale_ind = np.argwhere(A>5)\n",
    "rescale_row = np.unique(rescale_ind[:,0])\n",
    "print(rescale_row)\n",
    "print(A[rescale_row])\n",
    "A[rescale_row] = A[rescale_row]/2\n",
    "print(A[rescale_row])"
   ]
  },
  {
   "cell_type": "code",
   "execution_count": null,
   "id": "5582a5dc",
   "metadata": {},
   "outputs": [],
   "source": [
    "k = 2\n",
    "\n",
    "X = np.random.rand((nrows,k))\n",
    "Y = np.random.rand((ncols,k))"
   ]
  },
  {
   "cell_type": "code",
   "execution_count": 108,
   "id": "4addcfb8",
   "metadata": {},
   "outputs": [
    {
     "data": {
      "text/plain": [
       "array([[1, 2],\n",
       "       [2, 0],\n",
       "       [2, 1],\n",
       "       [2, 2]], dtype=int64)"
      ]
     },
     "execution_count": 108,
     "metadata": {},
     "output_type": "execute_result"
    }
   ],
   "source": [
    "B = np.array([[1,2,3],[4,5,6],[7,8,9]])\n",
    "np.argwhere(B>5)"
   ]
  },
  {
   "cell_type": "code",
   "execution_count": null,
   "id": "411b187c",
   "metadata": {},
   "outputs": [],
   "source": []
  }
 ],
 "metadata": {
  "kernelspec": {
   "display_name": "Python 3 (ipykernel)",
   "language": "python",
   "name": "python3"
  },
  "language_info": {
   "codemirror_mode": {
    "name": "ipython",
    "version": 3
   },
   "file_extension": ".py",
   "mimetype": "text/x-python",
   "name": "python",
   "nbconvert_exporter": "python",
   "pygments_lexer": "ipython3",
   "version": "3.9.13"
  }
 },
 "nbformat": 4,
 "nbformat_minor": 5
}
