{
 "cells": [
  {
   "cell_type": "code",
   "execution_count": 2,
   "id": "0b4d073b",
   "metadata": {},
   "outputs": [],
   "source": [
    "import numpy as np\n",
    "import numpy.linalg as la"
   ]
  },
  {
   "cell_type": "code",
   "execution_count": 3,
   "id": "4be9bf43",
   "metadata": {},
   "outputs": [],
   "source": [
    "def cholesky(A):\n",
    "    n,m=A.shape\n",
    "    if n!=m:\n",
    "        print('The matrix is not square.')  \n",
    "        return\n",
    "    L = np.zeros((n,n))  \n",
    "    for j in range(n):\n",
    "        aux = A[j,j] - np.sum(L[j,:j]**2)\n",
    "        if aux<=0:\n",
    "            print('The matrix is not positive definite.')\n",
    "            return\n",
    "        L[j,j] = np.sqrt(aux)\n",
    "        for i in range(j+1,n):\n",
    "            L[i,j] = (A[i,j] - L[i,:j]@L[j,:j])/L[j,j]         \n",
    "    return L"
   ]
  },
  {
   "cell_type": "code",
   "execution_count": 4,
   "id": "ed6ebf15",
   "metadata": {},
   "outputs": [
    {
     "name": "stdout",
     "output_type": "stream",
     "text": [
      "Minimum eigenvalue: 0.8264779859000794\n",
      "Matrix is SPD.\n",
      "Error between algorithms: 0.0\n"
     ]
    }
   ],
   "source": [
    "# A=np.array([\n",
    "#     [20,1,1],\n",
    "#     [1,10,-1],\n",
    "#     [1,-1,1]\n",
    "# ]\n",
    "# )\n",
    "\n",
    "# evals = la.eigvals(A)\n",
    "# print('Minimum eigenvalue:',np.min(evals))\n",
    "# L=cholesky(A)\n",
    "# if L is not None:\n",
    "#     print('Matrix is SPD.')\n",
    "#     L_numpy = la.cholesky(A)\n",
    "#     print('Error between algorithms:',la.norm(L-L_numpy))"
   ]
  },
  {
   "cell_type": "code",
   "execution_count": 5,
   "id": "14811ead",
   "metadata": {},
   "outputs": [
    {
     "name": "stdout",
     "output_type": "stream",
     "text": [
      "A+A^T:\n",
      "Minimum eigenvalue: -7.788187643262669\n",
      "The matrix is not positive definite.\n",
      "A^TA:\n",
      "Minimum eigenvalue: 9.176001668332046e-05\n",
      "Matrix is SPD.\n",
      "Error between algorithms: 2.2256399230782706e-12\n"
     ]
    }
   ],
   "source": [
    "A=np.random.rand(100,100)\n",
    "B=A+A.T\n",
    "C=A.T@A\n",
    "\n",
    "for X in [B,C]:\n",
    "    print('A+A^T:' if (X==B).all() else 'A^TA:')\n",
    "    evals = la.eigvals(X)\n",
    "    print('Minimum eigenvalue:',np.min(evals))\n",
    "    L=cholesky(X)\n",
    "    if L is not None:\n",
    "        print('Matrix is SPD.')\n",
    "        L_numpy = la.cholesky(X)\n",
    "        print('Error between algorithms:',la.norm(L-L_numpy))"
   ]
  },
  {
   "cell_type": "code",
   "execution_count": null,
   "id": "7bc8483f",
   "metadata": {},
   "outputs": [],
   "source": []
  }
 ],
 "metadata": {
  "kernelspec": {
   "display_name": "Python 3 (ipykernel)",
   "language": "python",
   "name": "python3"
  },
  "language_info": {
   "codemirror_mode": {
    "name": "ipython",
    "version": 3
   },
   "file_extension": ".py",
   "mimetype": "text/x-python",
   "name": "python",
   "nbconvert_exporter": "python",
   "pygments_lexer": "ipython3",
   "version": "3.9.13"
  }
 },
 "nbformat": 4,
 "nbformat_minor": 5
}
