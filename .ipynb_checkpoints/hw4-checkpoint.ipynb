{
 "cells": [
  {
   "cell_type": "code",
   "execution_count": null,
   "id": "a404aa58",
   "metadata": {},
   "outputs": [],
   "source": [
    "# function RayleighQuotient()\n",
    "# n = 100;\n",
    "# A = rand(n);\n",
    "# A = A’ + A;\n",
    "# v = rand(n,1);\n",
    "# v = v/norm(v);\n",
    "# k = 1;\n",
    "# mu(k) = v’*A*v;\n",
    "# tol = 1e-12;\n",
    "# I = eye(n);\n",
    "# res = abs(norm(A*v - mu(k)*v)/mu(k));\n",
    "# fprintf(’k = %d: lam = %d\\tres = %d\\n’,k,mu(k),res);\n",
    "# while res > tol\n",
    "    # w = (A - mu(k)*I)\\v;\n",
    "    # k = k + 1;\n",
    "    # v = w/norm(w);\n",
    "    # mu(k) = v’*A*v;\n",
    "    # res = abs(norm(A*v - mu(k)*v)/mu(k));\n",
    "# endfprintf(’k = %d: lam = %d\\tres = %d\\n’,k,mu(k),res);\n",
    "# end"
   ]
  },
  {
   "cell_type": "code",
   "execution_count": 20,
   "id": "c5795575",
   "metadata": {},
   "outputs": [],
   "source": [
    "import numpy as np\n",
    "import numpy.random as rand\n",
    "import numpy.linalg as la"
   ]
  },
  {
   "cell_type": "code",
   "execution_count": 77,
   "id": "92967f54",
   "metadata": {},
   "outputs": [],
   "source": [
    "def RayleighQuotient(n):\n",
    "    print('n = {}'.format(n))\n",
    "    A = rand.randn(n,n)\n",
    "    A = A.T + A\n",
    "    v = rand.randn(n,1)\n",
    "    v = v/la.norm(v)\n",
    "    k = 0\n",
    "    mu = np.array([], dtype=np.float64)\n",
    "    mu = np.append(mu, v.T@A@v)\n",
    "    tol = 1e-12\n",
    "    I = np.eye(n)\n",
    "    res = np.abs(la.norm(A@v - mu[k]*v)/mu[k])\n",
    "    print('k = {}: lam = {} \\t res = {}'.format(k,mu[k],res))\n",
    "    while res > tol:\n",
    "        w = la.solve(A - mu[k]*I, v)\n",
    "        k = k + 1\n",
    "        v = w/la.norm(w)\n",
    "        mu = np.append(mu, v.T@A@v)\n",
    "        res = np.abs(la.norm(A@v - mu[k]*v)/mu[k])\n",
    "        print('k = {}: lam = {} \\t res = {}'.format(k,mu[k],res))\n",
    "    return mu"
   ]
  },
  {
   "cell_type": "code",
   "execution_count": 79,
   "id": "5af6b25c",
   "metadata": {},
   "outputs": [
    {
     "name": "stdout",
     "output_type": "stream",
     "text": [
      "n = 3\n",
      "k = 0: lam = -0.8151142327572565 \t res = 1.8637043943407148\n",
      "k = 1: lam = -1.527888557240502 \t res = 0.49771933690841386\n",
      "k = 2: lam = -1.7300438027038285 \t res = 0.034312732967786884\n",
      "k = 3: lam = -1.7312608467176074 \t res = 1.4514293524228025e-05\n",
      "k = 4: lam = -1.7312608469404385 \t res = 1.073066750031553e-15\n",
      "[-0.81511423 -1.52788856 -1.7300438  -1.73126085 -1.73126085]\n",
      "[9.16146614e-01 2.03372290e-01 1.21704424e-03 2.22831087e-10]\n"
     ]
    }
   ],
   "source": [
    "n = 3\n",
    "mu = RayleighQuotient(n)\n",
    "mu_k = mu[-1]\n",
    "err = np.abs(mu[:-1]-mu_k)"
   ]
  },
  {
   "cell_type": "code",
   "execution_count": 72,
   "id": "e7e1de5f",
   "metadata": {},
   "outputs": [
    {
     "data": {
      "text/plain": [
       "array([1, 2, 3, 4, 5, 6, 7, 8, 9])"
      ]
     },
     "execution_count": 72,
     "metadata": {},
     "output_type": "execute_result"
    }
   ],
   "source": [
    "a=np.array([1,2,3,4,5,6,7,8,9,10])\n",
    "a[:-1]"
   ]
  },
  {
   "cell_type": "code",
   "execution_count": null,
   "id": "33484c8b",
   "metadata": {},
   "outputs": [],
   "source": []
  }
 ],
 "metadata": {
  "kernelspec": {
   "display_name": "Python 3 (ipykernel)",
   "language": "python",
   "name": "python3"
  },
  "language_info": {
   "codemirror_mode": {
    "name": "ipython",
    "version": 3
   },
   "file_extension": ".py",
   "mimetype": "text/x-python",
   "name": "python",
   "nbconvert_exporter": "python",
   "pygments_lexer": "ipython3",
   "version": "3.9.13"
  }
 },
 "nbformat": 4,
 "nbformat_minor": 5
}
